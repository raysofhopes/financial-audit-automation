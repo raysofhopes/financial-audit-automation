{
 "cells": [
  {
   "cell_type": "markdown",
   "id": "0bf72b8a",
   "metadata": {},
   "source": [
    "# 🧾 Financial Audit Automation - EDA Notebook\n",
    "This notebook performs exploratory data analysis (EDA) on the general ledger dataset."
   ]
  },
  {
   "cell_type": "code",
   "execution_count": 1,
   "id": "72e43e86",
   "metadata": {},
   "outputs": [
    {
     "name": "stderr",
     "output_type": "stream",
     "text": [
      "Matplotlib is building the font cache; this may take a moment.\n"
     ]
    }
   ],
   "source": [
    "import pandas as pd\n",
    "import matplotlib.pyplot as plt\n",
    "import seaborn as sns\n",
    "\n",
    "# Set style for plots\n",
    "sns.set(style='whitegrid')"
   ]
  },
  {
   "cell_type": "code",
   "execution_count": 2,
   "id": "bb334d77",
   "metadata": {},
   "outputs": [
    {
     "data": {
      "text/html": [
       "<div>\n",
       "<style scoped>\n",
       "    .dataframe tbody tr th:only-of-type {\n",
       "        vertical-align: middle;\n",
       "    }\n",
       "\n",
       "    .dataframe tbody tr th {\n",
       "        vertical-align: top;\n",
       "    }\n",
       "\n",
       "    .dataframe thead th {\n",
       "        text-align: right;\n",
       "    }\n",
       "</style>\n",
       "<table border=\"1\" class=\"dataframe\">\n",
       "  <thead>\n",
       "    <tr style=\"text-align: right;\">\n",
       "      <th></th>\n",
       "      <th>Date</th>\n",
       "      <th>Account</th>\n",
       "      <th>Description</th>\n",
       "      <th>Amount</th>\n",
       "      <th>User</th>\n",
       "      <th>EntryType</th>\n",
       "    </tr>\n",
       "  </thead>\n",
       "  <tbody>\n",
       "    <tr>\n",
       "      <th>0</th>\n",
       "      <td>2024-01-01</td>\n",
       "      <td>Inventory</td>\n",
       "      <td>Invoice issued</td>\n",
       "      <td>8800.73</td>\n",
       "      <td>user1</td>\n",
       "      <td>Manual</td>\n",
       "    </tr>\n",
       "    <tr>\n",
       "      <th>1</th>\n",
       "      <td>2024-01-02</td>\n",
       "      <td>Expenses</td>\n",
       "      <td>Refund</td>\n",
       "      <td>2876.99</td>\n",
       "      <td>user2</td>\n",
       "      <td>Automated</td>\n",
       "    </tr>\n",
       "    <tr>\n",
       "      <th>2</th>\n",
       "      <td>2024-01-03</td>\n",
       "      <td>Accounts Receivable</td>\n",
       "      <td>Payment received</td>\n",
       "      <td>6331.46</td>\n",
       "      <td>user1</td>\n",
       "      <td>Automated</td>\n",
       "    </tr>\n",
       "    <tr>\n",
       "      <th>3</th>\n",
       "      <td>2024-01-04</td>\n",
       "      <td>Expenses</td>\n",
       "      <td>Payment received</td>\n",
       "      <td>7323.90</td>\n",
       "      <td>user2</td>\n",
       "      <td>Automated</td>\n",
       "    </tr>\n",
       "    <tr>\n",
       "      <th>4</th>\n",
       "      <td>2024-01-05</td>\n",
       "      <td>Expenses</td>\n",
       "      <td>Purchase</td>\n",
       "      <td>2219.21</td>\n",
       "      <td>user1</td>\n",
       "      <td>Automated</td>\n",
       "    </tr>\n",
       "  </tbody>\n",
       "</table>\n",
       "</div>"
      ],
      "text/plain": [
       "        Date              Account       Description   Amount   User  EntryType\n",
       "0 2024-01-01            Inventory    Invoice issued  8800.73  user1     Manual\n",
       "1 2024-01-02             Expenses            Refund  2876.99  user2  Automated\n",
       "2 2024-01-03  Accounts Receivable  Payment received  6331.46  user1  Automated\n",
       "3 2024-01-04             Expenses  Payment received  7323.90  user2  Automated\n",
       "4 2024-01-05             Expenses          Purchase  2219.21  user1  Automated"
      ]
     },
     "execution_count": 2,
     "metadata": {},
     "output_type": "execute_result"
    }
   ],
   "source": [
    "# Load the dataset\n",
    "df = pd.read_excel('../data/sample_general_ledger.xlsx')\n",
    "df.head()"
   ]
  },
  {
   "cell_type": "code",
   "execution_count": 3,
   "id": "073d7995",
   "metadata": {},
   "outputs": [
    {
     "name": "stdout",
     "output_type": "stream",
     "text": [
      "<class 'pandas.core.frame.DataFrame'>\n",
      "RangeIndex: 202 entries, 0 to 201\n",
      "Data columns (total 6 columns):\n",
      " #   Column       Non-Null Count  Dtype         \n",
      "---  ------       --------------  -----         \n",
      " 0   Date         202 non-null    datetime64[ns]\n",
      " 1   Account      202 non-null    object        \n",
      " 2   Description  202 non-null    object        \n",
      " 3   Amount       202 non-null    float64       \n",
      " 4   User         202 non-null    object        \n",
      " 5   EntryType    202 non-null    object        \n",
      "dtypes: datetime64[ns](1), float64(1), object(4)\n",
      "memory usage: 9.6+ KB\n"
     ]
    }
   ],
   "source": [
    "# Basic dataset info\n",
    "df.info()"
   ]
  },
  {
   "cell_type": "code",
   "execution_count": 4,
   "id": "2aa7040f",
   "metadata": {},
   "outputs": [
    {
     "data": {
      "text/html": [
       "<div>\n",
       "<style scoped>\n",
       "    .dataframe tbody tr th:only-of-type {\n",
       "        vertical-align: middle;\n",
       "    }\n",
       "\n",
       "    .dataframe tbody tr th {\n",
       "        vertical-align: top;\n",
       "    }\n",
       "\n",
       "    .dataframe thead th {\n",
       "        text-align: right;\n",
       "    }\n",
       "</style>\n",
       "<table border=\"1\" class=\"dataframe\">\n",
       "  <thead>\n",
       "    <tr style=\"text-align: right;\">\n",
       "      <th></th>\n",
       "      <th>Date</th>\n",
       "      <th>Amount</th>\n",
       "    </tr>\n",
       "  </thead>\n",
       "  <tbody>\n",
       "    <tr>\n",
       "      <th>count</th>\n",
       "      <td>202</td>\n",
       "      <td>202.000000</td>\n",
       "    </tr>\n",
       "    <tr>\n",
       "      <th>mean</th>\n",
       "      <td>2024-04-08 14:43:57.623762432</td>\n",
       "      <td>5046.649604</td>\n",
       "    </tr>\n",
       "    <tr>\n",
       "      <th>min</th>\n",
       "      <td>2024-01-01 00:00:00</td>\n",
       "      <td>-9999.000000</td>\n",
       "    </tr>\n",
       "    <tr>\n",
       "      <th>25%</th>\n",
       "      <td>2024-02-18 06:00:00</td>\n",
       "      <td>3009.357500</td>\n",
       "    </tr>\n",
       "    <tr>\n",
       "      <th>50%</th>\n",
       "      <td>2024-04-08 12:00:00</td>\n",
       "      <td>5068.270000</td>\n",
       "    </tr>\n",
       "    <tr>\n",
       "      <th>75%</th>\n",
       "      <td>2024-05-28 18:00:00</td>\n",
       "      <td>7055.077500</td>\n",
       "    </tr>\n",
       "    <tr>\n",
       "      <th>max</th>\n",
       "      <td>2024-07-18 00:00:00</td>\n",
       "      <td>11569.410000</td>\n",
       "    </tr>\n",
       "    <tr>\n",
       "      <th>std</th>\n",
       "      <td>NaN</td>\n",
       "      <td>3124.466012</td>\n",
       "    </tr>\n",
       "  </tbody>\n",
       "</table>\n",
       "</div>"
      ],
      "text/plain": [
       "                                Date        Amount\n",
       "count                            202    202.000000\n",
       "mean   2024-04-08 14:43:57.623762432   5046.649604\n",
       "min              2024-01-01 00:00:00  -9999.000000\n",
       "25%              2024-02-18 06:00:00   3009.357500\n",
       "50%              2024-04-08 12:00:00   5068.270000\n",
       "75%              2024-05-28 18:00:00   7055.077500\n",
       "max              2024-07-18 00:00:00  11569.410000\n",
       "std                              NaN   3124.466012"
      ]
     },
     "execution_count": 4,
     "metadata": {},
     "output_type": "execute_result"
    }
   ],
   "source": [
    "# Summary statistics\n",
    "df.describe()"
   ]
  },
  {
   "cell_type": "code",
   "execution_count": 5,
   "id": "295c58df",
   "metadata": {},
   "outputs": [
    {
     "data": {
      "image/png": "[encoded data removed]",
      "text/plain": [
       "<Figure size 1000x500 with 1 Axes>"
      ]
     },
     "metadata": {},
     "output_type": "display_data"
    }
   ],
   "source": [
    "# Distribution of transaction amounts\n",
    "plt.figure(figsize=(10, 5))\n",
    "sns.histplot(df['Amount'], bins=30, kde=True)\n",
    "plt.title('Distribution of Transaction Amounts')\n",
    "plt.xlabel('Amount')\n",
    "plt.ylabel('Frequency')\n",
    "plt.show()"
   ]
  },
  {
   "cell_type": "code",
   "execution_count": 6,
   "id": "184c6366",
   "metadata": {},
   "outputs": [
    {
     "data": {
      "image/png": "[encoded data removed]",
      "text/plain": [
       "<Figure size 640x480 with 1 Axes>"
      ]
     },
     "metadata": {},
     "output_type": "display_data"
    }
   ],
   "source": [
    "# Entry type breakdown\n",
    "df['EntryType'].value_counts().plot(kind='bar', title='Entry Type Breakdown')\n",
    "plt.ylabel('Count')\n",
    "plt.show()"
   ]
  },
  {
   "cell_type": "code",
   "execution_count": 7,
   "id": "3e0e6759",
   "metadata": {},
   "outputs": [
    {
     "data": {
      "image/png": "[encoded data removed]",
      "text/plain": [
       "<Figure size 640x480 with 1 Axes>"
      ]
     },
     "metadata": {},
     "output_type": "display_data"
    }
   ],
   "source": [
    "# Count by account type\n",
    "df['Account'].value_counts().plot(kind='barh', title='Transactions by Account Type')\n",
    "plt.xlabel('Count')\n",
    "plt.show()"
   ]
  },
  {
   "cell_type": "code",
   "execution_count": 8,
   "id": "cdea68c4",
   "metadata": {},
   "outputs": [
    {
     "data": {
      "text/html": [
       "<div>\n",
       "<style scoped>\n",
       "    .dataframe tbody tr th:only-of-type {\n",
       "        vertical-align: middle;\n",
       "    }\n",
       "\n",
       "    .dataframe tbody tr th {\n",
       "        vertical-align: top;\n",
       "    }\n",
       "\n",
       "    .dataframe thead th {\n",
       "        text-align: right;\n",
       "    }\n",
       "</style>\n",
       "<table border=\"1\" class=\"dataframe\">\n",
       "  <thead>\n",
       "    <tr style=\"text-align: right;\">\n",
       "      <th></th>\n",
       "      <th>Date</th>\n",
       "      <th>Account</th>\n",
       "      <th>Description</th>\n",
       "      <th>Amount</th>\n",
       "      <th>User</th>\n",
       "      <th>EntryType</th>\n",
       "    </tr>\n",
       "  </thead>\n",
       "  <tbody>\n",
       "    <tr>\n",
       "      <th>200</th>\n",
       "      <td>2024-01-11</td>\n",
       "      <td>Inventory</td>\n",
       "      <td>Refund</td>\n",
       "      <td>9897.23</td>\n",
       "      <td>user1</td>\n",
       "      <td>Automated</td>\n",
       "    </tr>\n",
       "    <tr>\n",
       "      <th>201</th>\n",
       "      <td>2024-01-11</td>\n",
       "      <td>Inventory</td>\n",
       "      <td>Refund</td>\n",
       "      <td>9897.23</td>\n",
       "      <td>user1</td>\n",
       "      <td>Automated</td>\n",
       "    </tr>\n",
       "  </tbody>\n",
       "</table>\n",
       "</div>"
      ],
      "text/plain": [
       "          Date    Account Description   Amount   User  EntryType\n",
       "200 2024-01-11  Inventory      Refund  9897.23  user1  Automated\n",
       "201 2024-01-11  Inventory      Refund  9897.23  user1  Automated"
      ]
     },
     "execution_count": 8,
     "metadata": {},
     "output_type": "execute_result"
    }
   ],
   "source": [
    "# Detect duplicates\n",
    "df[df.duplicated()]"
   ]
  },
  {
   "cell_type": "code",
   "execution_count": 9,
   "id": "d9443847",
   "metadata": {},
   "outputs": [
    {
     "data": {
      "text/html": [
       "<div>\n",
       "<style scoped>\n",
       "    .dataframe tbody tr th:only-of-type {\n",
       "        vertical-align: middle;\n",
       "    }\n",
       "\n",
       "    .dataframe tbody tr th {\n",
       "        vertical-align: top;\n",
       "    }\n",
       "\n",
       "    .dataframe thead th {\n",
       "        text-align: right;\n",
       "    }\n",
       "</style>\n",
       "<table border=\"1\" class=\"dataframe\">\n",
       "  <thead>\n",
       "    <tr style=\"text-align: right;\">\n",
       "      <th></th>\n",
       "      <th>Date</th>\n",
       "      <th>Account</th>\n",
       "      <th>Description</th>\n",
       "      <th>Amount</th>\n",
       "      <th>User</th>\n",
       "      <th>EntryType</th>\n",
       "    </tr>\n",
       "  </thead>\n",
       "  <tbody>\n",
       "    <tr>\n",
       "      <th>5</th>\n",
       "      <td>2024-01-06</td>\n",
       "      <td>Sales</td>\n",
       "      <td>Refund</td>\n",
       "      <td>10000.0</td>\n",
       "      <td>user1</td>\n",
       "      <td>Automated</td>\n",
       "    </tr>\n",
       "  </tbody>\n",
       "</table>\n",
       "</div>"
      ],
      "text/plain": [
       "        Date Account Description   Amount   User  EntryType\n",
       "5 2024-01-06   Sales      Refund  10000.0  user1  Automated"
      ]
     },
     "execution_count": 9,
     "metadata": {},
     "output_type": "execute_result"
    }
   ],
   "source": [
    "# Detect large round values\n",
    "threshold = 10000\n",
    "df[(df['Amount'] % 1000 == 0) & (df['Amount'].abs() >= threshold)]"
   ]
  },
  {
   "cell_type": "code",
   "execution_count": 10,
   "id": "06ed710f",
   "metadata": {},
   "outputs": [
    {
     "data": {
      "text/html": [
       "<div>\n",
       "<style scoped>\n",
       "    .dataframe tbody tr th:only-of-type {\n",
       "        vertical-align: middle;\n",
       "    }\n",
       "\n",
       "    .dataframe tbody tr th {\n",
       "        vertical-align: top;\n",
       "    }\n",
       "\n",
       "    .dataframe thead th {\n",
       "        text-align: right;\n",
       "    }\n",
       "</style>\n",
       "<table border=\"1\" class=\"dataframe\">\n",
       "  <thead>\n",
       "    <tr style=\"text-align: right;\">\n",
       "      <th></th>\n",
       "      <th>Date</th>\n",
       "      <th>Account</th>\n",
       "      <th>Description</th>\n",
       "      <th>Amount</th>\n",
       "      <th>User</th>\n",
       "      <th>EntryType</th>\n",
       "    </tr>\n",
       "  </thead>\n",
       "  <tbody>\n",
       "    <tr>\n",
       "      <th>1</th>\n",
       "      <td>2024-01-02</td>\n",
       "      <td>Expenses</td>\n",
       "      <td>Refund</td>\n",
       "      <td>2876.99</td>\n",
       "      <td>user2</td>\n",
       "      <td>Automated</td>\n",
       "    </tr>\n",
       "    <tr>\n",
       "      <th>4</th>\n",
       "      <td>2024-01-05</td>\n",
       "      <td>Expenses</td>\n",
       "      <td>Purchase</td>\n",
       "      <td>2219.21</td>\n",
       "      <td>user1</td>\n",
       "      <td>Automated</td>\n",
       "    </tr>\n",
       "    <tr>\n",
       "      <th>6</th>\n",
       "      <td>2024-01-07</td>\n",
       "      <td>Accounts Receivable</td>\n",
       "      <td>Misc</td>\n",
       "      <td>-4723.80</td>\n",
       "      <td>user1</td>\n",
       "      <td>Automated</td>\n",
       "    </tr>\n",
       "    <tr>\n",
       "      <th>7</th>\n",
       "      <td>2024-01-08</td>\n",
       "      <td>Accounts Receivable</td>\n",
       "      <td>Refund</td>\n",
       "      <td>1926.84</td>\n",
       "      <td>user2</td>\n",
       "      <td>Automated</td>\n",
       "    </tr>\n",
       "    <tr>\n",
       "      <th>8</th>\n",
       "      <td>2024-01-09</td>\n",
       "      <td>Accounts Receivable</td>\n",
       "      <td>Purchase</td>\n",
       "      <td>4242.30</td>\n",
       "      <td>user2</td>\n",
       "      <td>Automated</td>\n",
       "    </tr>\n",
       "    <tr>\n",
       "      <th>...</th>\n",
       "      <td>...</td>\n",
       "      <td>...</td>\n",
       "      <td>...</td>\n",
       "      <td>...</td>\n",
       "      <td>...</td>\n",
       "      <td>...</td>\n",
       "    </tr>\n",
       "    <tr>\n",
       "      <th>193</th>\n",
       "      <td>2024-07-12</td>\n",
       "      <td>Sales</td>\n",
       "      <td>Payment received</td>\n",
       "      <td>1822.36</td>\n",
       "      <td>user1</td>\n",
       "      <td>Automated</td>\n",
       "    </tr>\n",
       "    <tr>\n",
       "      <th>194</th>\n",
       "      <td>2024-07-13</td>\n",
       "      <td>Inventory</td>\n",
       "      <td>Misc</td>\n",
       "      <td>4811.96</td>\n",
       "      <td>user3</td>\n",
       "      <td>Automated</td>\n",
       "    </tr>\n",
       "    <tr>\n",
       "      <th>196</th>\n",
       "      <td>2024-07-15</td>\n",
       "      <td>Accounts Receivable</td>\n",
       "      <td>Misc</td>\n",
       "      <td>2042.82</td>\n",
       "      <td>user1</td>\n",
       "      <td>Manual</td>\n",
       "    </tr>\n",
       "    <tr>\n",
       "      <th>198</th>\n",
       "      <td>2024-07-17</td>\n",
       "      <td>Expenses</td>\n",
       "      <td>Purchase</td>\n",
       "      <td>3409.23</td>\n",
       "      <td>user2</td>\n",
       "      <td>Automated</td>\n",
       "    </tr>\n",
       "    <tr>\n",
       "      <th>199</th>\n",
       "      <td>2024-07-18</td>\n",
       "      <td>Inventory</td>\n",
       "      <td>Invoice issued</td>\n",
       "      <td>2621.38</td>\n",
       "      <td>user3</td>\n",
       "      <td>Manual</td>\n",
       "    </tr>\n",
       "  </tbody>\n",
       "</table>\n",
       "<p>96 rows × 6 columns</p>\n",
       "</div>"
      ],
      "text/plain": [
       "          Date              Account       Description   Amount   User  \\\n",
       "1   2024-01-02             Expenses            Refund  2876.99  user2   \n",
       "4   2024-01-05             Expenses          Purchase  2219.21  user1   \n",
       "6   2024-01-07  Accounts Receivable              Misc -4723.80  user1   \n",
       "7   2024-01-08  Accounts Receivable            Refund  1926.84  user2   \n",
       "8   2024-01-09  Accounts Receivable          Purchase  4242.30  user2   \n",
       "..         ...                  ...               ...      ...    ...   \n",
       "193 2024-07-12                Sales  Payment received  1822.36  user1   \n",
       "194 2024-07-13            Inventory              Misc  4811.96  user3   \n",
       "196 2024-07-15  Accounts Receivable              Misc  2042.82  user1   \n",
       "198 2024-07-17             Expenses          Purchase  3409.23  user2   \n",
       "199 2024-07-18            Inventory    Invoice issued  2621.38  user3   \n",
       "\n",
       "     EntryType  \n",
       "1    Automated  \n",
       "4    Automated  \n",
       "6    Automated  \n",
       "7    Automated  \n",
       "8    Automated  \n",
       "..         ...  \n",
       "193  Automated  \n",
       "194  Automated  \n",
       "196     Manual  \n",
       "198  Automated  \n",
       "199     Manual  \n",
       "\n",
       "[96 rows x 6 columns]"
      ]
     },
     "execution_count": 10,
     "metadata": {},
     "output_type": "execute_result"
    }
   ],
   "source": [
    "# Detect suspiciously small values\n",
    "limit = 5000\n",
    "df[df['Amount'].abs() < limit]"
   ]
  },
  {
   "cell_type": "markdown",
   "id": "57c93b71",
   "metadata": {},
   "source": [
    "----\n",
    "This notebook complements the Python script and provides visual insights into transaction anomalies for audit purposes."
   ]
  },
  {
   "cell_type": "code",
   "execution_count": null,
   "id": "4c383d3f-d0e3-4b48-ac09-26bcbb1cf8f0",
   "metadata": {},
   "outputs": [],
   "source": []
  },
  {
   "cell_type": "code",
   "execution_count": null,
   "id": "baa57427-a633-43a6-a276-f3b12ab7cf68",
   "metadata": {},
   "outputs": [],
   "source": []
  },
  {
   "cell_type": "code",
   "execution_count": null,
   "id": "b4c53ca2-3693-45ab-be6c-ede7a98e30d5",
   "metadata": {},
   "outputs": [],
   "source": []
  },
  {
   "cell_type": "code",
   "execution_count": null,
   "id": "deb14c68-f9fd-4617-b5f4-c282f8a7302f",
   "metadata": {},
   "outputs": [],
   "source": []
  },
  {
   "cell_type": "code",
   "execution_count": null,
   "id": "b7ad738d-143e-4d7e-9d4a-6e01c4e2814f",
   "metadata": {},
   "outputs": [],
   "source": []
  },
  {
   "cell_type": "code",
   "execution_count": null,
   "id": "3c0cb4b4-01eb-4c52-a528-dd48a11b1b1c",
   "metadata": {},
   "outputs": [],
   "source": []
  },
  {
   "cell_type": "code",
   "execution_count": null,
   "id": "7860062b-0d65-49b1-8142-04347ba83925",
   "metadata": {},
   "outputs": [],
   "source": []
  }
 ],
 "metadata": {
  "kernelspec": {
   "display_name": "Python 3 (ipykernel)",
   "language": "python",
   "name": "python3"
  },
  "language_info": {
   "codemirror_mode": {
    "name": "ipython",
    "version": 3
   },
   "file_extension": ".py",
   "mimetype": "text/x-python",
   "name": "python",
   "nbconvert_exporter": "python",
   "pygments_lexer": "ipython3",
   "version": "3.11.9"
  }
 },
 "nbformat": 4,
 "nbformat_minor": 5
}
